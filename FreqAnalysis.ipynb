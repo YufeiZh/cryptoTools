{
  "nbformat": 4,
  "nbformat_minor": 0,
  "metadata": {
    "colab": {
      "provenance": [],
      "authorship_tag": "ABX9TyO8KaZx26145aTly6RQgu6K"
    },
    "kernelspec": {
      "name": "python3",
      "display_name": "Python 3"
    },
    "language_info": {
      "name": "python"
    }
  },
  "cells": [
    {
      "cell_type": "markdown",
      "source": [
        "# Frequency Analysis Tool"
      ],
      "metadata": {
        "id": "l6Q1pxzapfDw"
      }
    },
    {
      "cell_type": "markdown",
      "source": [
        "## Import and Reorganize the Text"
      ],
      "metadata": {
        "id": "eY7wYMcXpK9T"
      }
    },
    {
      "cell_type": "markdown",
      "source": [
        "Define two functions:\n",
        "The function `extract` extracts and returns lowercase and uppercase English letters in a given text.\n",
        "\n",
        "The function `print_text` prints a given text with a fixed number of columns (default 5 columns)."
      ],
      "metadata": {
        "id": "4bA1mm6LqKYG"
      }
    },
    {
      "cell_type": "code",
      "execution_count": 3,
      "metadata": {
        "id": "GGx1P_9ZpFp9"
      },
      "outputs": [],
      "source": [
        "import re                      # Use regular expressions\n",
        "def extract(s):\n",
        "  pattern = r'[a-zA-Z]'\n",
        "  extracted = ''.join(re.findall(pattern, s))\n",
        "  return extracted\n",
        "\n",
        "def print_text(s, columns=5):\n",
        "  extracted = extract(s)\n",
        "  index = 0\n",
        "  while index < len(extracted):\n",
        "    row = \"\"\n",
        "    space_count = 0\n",
        "    for i in range(index, index+5*columns):\n",
        "      if i < len(extracted):\n",
        "        row += extracted[i]\n",
        "        space_count += 1\n",
        "        if space_count == 5:        # Insert whitespaces\n",
        "          row += ' '\n",
        "          space_count = 0\n",
        "    print(row)\n",
        "    index += 5 * columns"
      ]
    },
    {
      "cell_type": "markdown",
      "source": [
        "For example, the following text is an encrypted text, from *Rubinstein_Salzedo 3.4 Problem 5*."
      ],
      "metadata": {
        "id": "mh9TF3z2tj8Q"
      }
    },
    {
      "cell_type": "code",
      "source": [
        "encrypted = \"NBPFR KISOQ NFRDB FKJFD XNOIN OJXIX NZXSI\\\n",
        "      DJXIJ NYENO ISDSA SOFBY REJRK IKSKI PFRAR\\\n",
        "      DJZIJ RUSEE JXIZI KADFB JXIJK SODYI OGIOJ\\\n",
        "      SEJIK ADSOG UESOJ JXIAI VKPWX IKIPF RARDJ\\\n",
        "      ENIRU FOJXI GSNDN IDSOG GNDYF RKDIN OOFVI\\\n",
        "      EUXKS DIDFB PFRKY FAUEN YSJIG DJSJI FBANO\\\n",
        "      GJXIA ISONO ZGFID OJASJ JIKNB NJDFO EPNGE\\\n",
        "      IYXSJ JIKFB SJKSO DYIOG IOJSE LNOGS OGIVK\\\n",
        "      PFOIW NEEDS PSDPF RWSEL PFRKA PDJNY WSPNB\\\n",
        "      JXNDP FROZA SOIQU KIDDI DXNAD IEBNO JIKAD\\\n",
        "      JFFGI IUBFK AIWXP WXSJS VIKPD NOZRE SKEPG\\\n",
        "      IIUPF ROZAS OJXND GIIUP FROZA SOARD JCICI\\\n",
        "      IEFMR IOJNO UKSND IFBJX IVIKP GREEF EGGSP\\\n",
        "      DWXNY XXSVI EFOZD NOYIU SDDIG SWSPS OGYFO\\\n",
        "      VNOYI IANBP FRYSO JXSJJ XIKIN ZOFBZ FFGMR\\\n",
        "      IIOSO OIWSD YREJR KIDUS EANID JGSPF BYFRK\\\n",
        "      DIPFR WNEEU FFXUF FXWXS JIVIK DBKID XSOGO\\\n",
        "      IWSOG GIYES KINJD YKRGI SOGAI SOBFK SKJDJ\\\n",
        "      FUUIG DXFKJ NOJXI YREJN VSJIG YFRKJ FBJXI\\\n",
        "      IAUKI DDHFD IUXNO ISOGI VKPFO IWNEE DSPSD\\\n",
        "      PFRWS ELPFR KAPDJ NYWSP NBJXS JDOFJ ZFFGI\\\n",
        "      OFRZX BFKXN AWXNY XNDZF FGIOF RZXBF KAIWX\\\n",
        "      PWXSJ SVIKP YREJN VSJIG LNOGF BPFRJ XJXND\\\n",
        "      LNOGF BPFRJ XARDJ CIJXI OSDIO JNAIO JSEUS\\\n",
        "      DDNFO FBSVI ZIJSC EIBSD XNFOA RDJIQ YNJIP\\\n",
        "      FRKES OZRNG DUEII OSOSJ JSYXA IOJSE SUESJ\\\n",
        "      FBFKS CSDXB REPFR OZUFJ SJFFK SOFJJ FFBKI\\\n",
        "      OYXBK IOYXC ISOJX FRZXJ XIUXN ENDJN OIDAS\\\n",
        "      PHFDJ EIPFR WNEEK SOLSD SOSUF DJEIN OJXIX\\\n",
        "      NZXSI DJXIJ NYCSO GNBPF RWSEL GFWOU NYYSG\\\n",
        "      NEEPW NJXSU FUUPF KSENE PNOPF RKAIG NIVSE\\\n",
        "      XSOGS OGIVK PFOIW NEEDS PSDPF RWSEL PFRKB\\\n",
        "      EFWKP WSPNB XIDYF OJIOJ WNJXS VIZIJ SCEIE\\\n",
        "      FVIWX NYXWF REGYI KJSNO EPOFJ DRNJA IWXPW\\\n",
        "      XSJSA FDJUS KJNYR ESKEP URKIP FROZA SOJXN\\\n",
        "      DURKI PFROZ ASOAR DJCI\"\n",
        "\n",
        "print(\"Without Spaces:\")\n",
        "print(extract(encrypted))\n",
        "print(\"\\n5 letters per group and 30 groups per line:\")\n",
        "print_text(encrypted, 30)"
      ],
      "metadata": {
        "id": "9eEhTytJtifu"
      },
      "execution_count": null,
      "outputs": []
    },
    {
      "cell_type": "markdown",
      "source": [
        "The text `extract(encrypted)` is also useful since there are no whitespaces or punctuations. So you can copy and paste it to any texteditor to visiualize the occurences of any substrings of characters.\n",
        "\n",
        "I recommend using [regex101](https://regex101.com/) where you can use reguler expressions."
      ],
      "metadata": {
        "id": "xQNULtJLuvf6"
      }
    },
    {
      "cell_type": "markdown",
      "source": [
        "## Frequency Analysis\n",
        "\n",
        "The following function `freq_analyse(s, length=1)` returns a dictionary of frequencies (actually the number of occurences) of `length`-grams in the text `s`. By default, `length` is set to 1.\n",
        "\n",
        "Set the second parameter to $n$ to get the frequencies of all $n$-grams in the text.\n",
        "\n",
        "The frequences returned are in descending order."
      ],
      "metadata": {
        "id": "uQIpNnDlwaGH"
      }
    },
    {
      "cell_type": "code",
      "source": [
        "def freq_analyse(s, length = 1):\n",
        "    pattern = r'[a-zA-Z]'\n",
        "    extracted = ''.join(re.findall(pattern, s))\n",
        "    freq_dict = {}\n",
        "\n",
        "    for index in range(len(extracted)-length+1):\n",
        "        if extracted[index:index+length] not in freq_dict:\n",
        "            freq_dict[extracted[index:index+length]] = 0\n",
        "        freq_dict[extracted[index:index+length]] += 1\n",
        "\n",
        "    return (dict(sorted(freq_dict.items(), key = lambda item: item[1], reverse = True)))"
      ],
      "metadata": {
        "id": "UrHcyUKqueNU"
      },
      "execution_count": 9,
      "outputs": []
    },
    {
      "cell_type": "markdown",
      "source": [
        "## Test with the Text `encrypted`"
      ],
      "metadata": {
        "id": "E9NCVBTkzw5B"
      }
    },
    {
      "cell_type": "code",
      "source": [
        "print(freq_analyse(encrypted))\n",
        "print(freq_analyse(encrypted, 2))\n",
        "print(freq_analyse(encrypted, 3))\n",
        "print(freq_analyse(encrypted, 4))"
      ],
      "metadata": {
        "id": "LsdGa9lPz5yZ"
      },
      "execution_count": null,
      "outputs": []
    },
    {
      "cell_type": "markdown",
      "source": [
        "You can also get the frequency of a specific letter combination. For example, to find the frequency of `PFRWSEL`, we can use the following command. Note that $7$ is the length of `PFRWSEL`."
      ],
      "metadata": {
        "id": "k9N7dVXH0XpD"
      }
    },
    {
      "cell_type": "code",
      "source": [
        "print(freq_analyse(encrypted, 7)[\"PFRWSEL\"])"
      ],
      "metadata": {
        "id": "W29O--gu1Hd-"
      },
      "execution_count": null,
      "outputs": []
    },
    {
      "cell_type": "markdown",
      "source": [
        "## Substitute and Rerun Frequency Analysis\n",
        "\n",
        "Say, we make a guess that `I` represents `e` since it has the highest frequency. We can do the following."
      ],
      "metadata": {
        "id": "Y52zHMa81h_H"
      }
    },
    {
      "cell_type": "code",
      "source": [
        "text_guess = encrypted    #Note that strings are immutable in Python, so we will not change `encrypted`\n",
        "text_guess = text_guess.replace('I', 'e')   #This command will substitute all \"I\" with \"e\""
      ],
      "metadata": {
        "id": "n3sYS0ng2S-5"
      },
      "execution_count": 12,
      "outputs": []
    },
    {
      "cell_type": "markdown",
      "source": [
        "Then we can run `freq_analyse` again for the new text `text_guess` and proceed."
      ],
      "metadata": {
        "id": "XTR1X_tj3LEq"
      }
    },
    {
      "cell_type": "code",
      "source": [
        "print(freq_analyse(text_guess))\n",
        "print(freq_analyse(text_guess, 2))\n",
        "print(freq_analyse(text_guess, 3))\n",
        "print(freq_analyse(text_guess, 4))"
      ],
      "metadata": {
        "id": "dSqJnG0j3UkE"
      },
      "execution_count": null,
      "outputs": []
    }
  ]
}