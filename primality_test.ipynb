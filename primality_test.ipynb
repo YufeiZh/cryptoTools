{
  "nbformat": 4,
  "nbformat_minor": 0,
  "metadata": {
    "colab": {
      "provenance": [],
      "authorship_tag": "ABX9TyPcj6fE7L8571Oy6H/p5lhU"
    },
    "kernelspec": {
      "name": "python3",
      "display_name": "Python 3"
    },
    "language_info": {
      "name": "python"
    }
  },
  "cells": [
    {
      "cell_type": "markdown",
      "source": [
        "Primality Test\n",
        "===============\n",
        "\n",
        "It is usually hard to determine whether a given natural number is prime or not. The naive way is to use brute force to check if it has any prime factor other than itself. We have studied another algorithm, namely the Miller-Rabin Test, which is claimed to be less expenssive while still does the job.\n",
        "\n",
        "The goal of this lab/project is to explore and implement the Miller-Rabin algorithm step-by-step in Python and analyse why it is faster.\n",
        "\n",
        "In addition, there will also be an implementation of the AKS algorithm, but I will omit the details.\n",
        "\n",
        "I hope we can get an idea of how a cryptography algorithm is implemented and what the potential issues could be in general.\n"
      ],
      "metadata": {
        "id": "BJYjOPWChvXA"
      }
    },
    {
      "cell_type": "markdown",
      "source": [
        "# Brute-force\n"
      ],
      "metadata": {
        "id": "0IWgBJrTLFqC"
      }
    },
    {
      "cell_type": "markdown",
      "source": [
        "Let $n>1$ and we want to know if $n$ is prime. In practice, we can iterate through $2$ to $\\lceil\\sqrt{n}\\,\\rceil$ to see if it devides $n$. If any of these numbers divide $n$, then we draw the conclusion that $n$ is not prime.\n",
        "\n",
        "We can assume that to determine whether $n\\equiv0$ (mod $k$) is an easy task for the machine. So in the worst cases when $n$ is a prime number, the machine will have to do $\\lceil\\sqrt{n}\\,\\rceil - 1$ calculations, which is comparable to $n^{1/2}$.\n",
        "\n",
        "Thus we say the (worst case) time complexity of this algorithm is $O(n^{1/2})$. (The space complexity is constant or $O(1)$ since we are not creating extra running variables.)\n",
        "\n"
      ],
      "metadata": {
        "id": "ju9ofL8jOTAg"
      }
    },
    {
      "cell_type": "markdown",
      "source": [
        "Let's import some packages first.\n",
        "\n",
        "* `random` help us take random integers in a certain range or choose random element in a set.\n",
        "* the functions in `math` are self-explanatory.\n",
        "* `numpy` enables us to vectorize objects and thus do parallel computations.\n",
        "* `time` help us know how long a piece of code runs so we can compare different algorithms.\n",
        "* We use `decimal` in AKS to avoid loss of precision when doing logrithm or roots of large integers.\n",
        "\n",
        "Run the following block by clicking on the upper-left corner of the block, or run it by click anywhere of the block and then apply `Ctrl+Enter`."
      ],
      "metadata": {
        "id": "7mo3_lbDOU48"
      }
    },
    {
      "cell_type": "code",
      "source": [
        "from random import seed, randint\n",
        "from math import log, gcd, sqrt\n",
        "import numpy as np\n",
        "import time\n",
        "from decimal import getcontext, Decimal, ROUND_UP, ROUND_DOWN"
      ],
      "metadata": {
        "id": "pKO6qza8lsiJ"
      },
      "execution_count": null,
      "outputs": []
    },
    {
      "cell_type": "markdown",
      "source": [
        "Now let's implement the brute-force algorithm."
      ],
      "metadata": {
        "id": "hMt6ABskQRgV"
      }
    },
    {
      "cell_type": "code",
      "source": [
        "def is_prime(n):\n",
        "  if n <= 1:\n",
        "    return False\n",
        "  for i in range(2, n):\n",
        "    if n % i == 0:\n",
        "      return False\n",
        "    if i * i >= n:\n",
        "      return True\n",
        "  return True"
      ],
      "metadata": {
        "id": "TYNbtQFHiGdD"
      },
      "execution_count": null,
      "outputs": []
    },
    {
      "cell_type": "markdown",
      "source": [
        "We know $n = 10^{17}-3$ is a large prime number. Let's see how long `is_prime(n)` will run."
      ],
      "metadata": {
        "id": "SzmSTG1cQaYr"
      }
    },
    {
      "cell_type": "code",
      "source": [
        "n = 10 ** 17 - 3\n",
        "start = time.time()\n",
        "ans = is_prime(n)\n",
        "end = time.time()\n",
        "print(ans)\n",
        "print(\"Runtime: \", end-start, \" seconds\")"
      ],
      "metadata": {
        "id": "dLErhsdDj35B"
      },
      "execution_count": null,
      "outputs": []
    },
    {
      "cell_type": "markdown",
      "source": [
        "Typically, it takes about one minute to run this out if you are running it on Google Colab. (It might be a little longer if you are using SageMath on CoCalc.)\n",
        "\n",
        "Therefore, we expect to have a better algorithm to solve it a little faster. Otherwise, we will not be able to apply our cryptography theory to larger integers. The Miller-Rabin Algorithm and the AKS Algorithm are both candidates.\n"
      ],
      "metadata": {
        "id": "wB0jfWBBkX5o"
      }
    },
    {
      "cell_type": "markdown",
      "source": [
        "# The Miller-Rabin Test\n",
        "\n",
        "The Miller-Rabin Test is an algorithm that tells if a natural number is **not** a prime and is a candidate for our purpose.\n",
        "\n",
        "Recall that if the algorithm returns `False`, we can declare that the input is not prime. While if the algorithm returns `True`, it only means that the input is \"likely\" a prime."
      ],
      "metadata": {
        "id": "C1CaeQQSkOfC"
      }
    },
    {
      "cell_type": "markdown",
      "source": [
        "## Implementing the Miller-Rabin Algorithm"
      ],
      "metadata": {
        "id": "hhOng4X20XW-"
      }
    },
    {
      "cell_type": "markdown",
      "source": [
        "According to the pseudocode from lecture note, we can directly write the code. The input is a pair $(n,k)$ where $n$ is the positive integer that we want to determine the primality and the parameter $k$ is the number of tests to run.\n",
        "\n",
        "Please refer to the textbook, the lecture note, or the wikipedia page [Miller-Rabin primality test](https://en.wikipedia.org/wiki/Miller%E2%80%93Rabin_primality_test) if you are not familiar with the algorithm."
      ],
      "metadata": {
        "id": "oU0ZLItGSiSH"
      }
    },
    {
      "cell_type": "code",
      "source": [
        "def miller_rabin_v0(n, k):\n",
        "  # some trivial cases\n",
        "  if n == 1:\n",
        "    return False\n",
        "  if n == 2:\n",
        "    return True\n",
        "\n",
        "  # compute s and m\n",
        "  s = 0\n",
        "  m = n - 1\n",
        "  while m % 2 == 0:\n",
        "    m //= 2\n",
        "    s += 1\n",
        "\n",
        "  # determine if n is like a prime\n",
        "  like_prime = True\n",
        "  for _ in range(k):\n",
        "    a = randint(2, n-1)\n",
        "    b = a ** m % n\n",
        "    if b != 1:\n",
        "      like_prime = False\n",
        "      for r in range(s):\n",
        "        if a ** (2 ** r * m) % n == n - 1:\n",
        "          like_prime = True\n",
        "          break\n",
        "      # if any a witnesses n, then n cannot be a prime\n",
        "      if not like_prime:\n",
        "        break\n",
        "\n",
        "  # if none of these randomly chosen a's witness n, then the\n",
        "  # likelyhood of n being non-prime is less than 4^{-k}.\n",
        "  return like_prime"
      ],
      "metadata": {
        "id": "x5RvQ1LOSUg0"
      },
      "execution_count": null,
      "outputs": []
    },
    {
      "cell_type": "markdown",
      "source": [
        "Let's see if $n$ *looks like* a prime for $n=1, 2, \\ldots, 20$."
      ],
      "metadata": {
        "id": "zcnh9WZWaI2k"
      }
    },
    {
      "cell_type": "code",
      "source": [
        "#seed(10)\n",
        "for i in range(1, 21):\n",
        "  print(f\"{i}:{miller_rabin_v0(i,1)}\", end=\"; \")"
      ],
      "metadata": {
        "id": "cXoFINwcXmc4"
      },
      "execution_count": null,
      "outputs": []
    },
    {
      "cell_type": "markdown",
      "source": [
        "You may or may not find that it makes some mistakes. For example, if you set the random seed as $10$ by uncommenting `seed(10)`, you will see that it says $9$ is likely a prime, which is false.\n",
        "\n",
        "This is very natural since we only take one test for each number. In this case, the algorithm can only guarantee that the likelyhood of $n$ being a prime is no greater than $\\cfrac{1}{4}=25\\%$, which is pretty high. If you run the previous block several times, the accuracy can be much higher.\n",
        "\n",
        "**If you are doing so, remember to comment out or delete `seed(10)`, otherwise you will always get the same results.**"
      ],
      "metadata": {
        "id": "fabV6s6fZHJ9"
      }
    },
    {
      "cell_type": "markdown",
      "source": [
        "Alternatively, we can run more tests each time by setting a larger $k$."
      ],
      "metadata": {
        "id": "gCZxlYsPcWsi"
      }
    },
    {
      "cell_type": "code",
      "source": [
        "seed(10)\n",
        "k = 2\n",
        "for i in range(1, 21):\n",
        "  print(f\"{i}:{miller_rabin_v0(i,k)}\", end=\"; \")"
      ],
      "metadata": {
        "id": "k9qLUg20ZGJU"
      },
      "execution_count": null,
      "outputs": []
    },
    {
      "cell_type": "markdown",
      "source": [
        "Even if we only increase $k$ by one, the possibility of encountering a Fermat Liar will decrease significantly. In our case, the false positive rate will be less than $\\cfrac{1}{4^2}=6.25\\%$.\n",
        "\n",
        "Empirically, the false positive rate could be significantly lower than $\\cfrac{1}{4^k}$. We will see this later."
      ],
      "metadata": {
        "id": "RNBZQlhrcnpP"
      }
    },
    {
      "cell_type": "markdown",
      "source": [
        "## Improvement"
      ],
      "metadata": {
        "id": "bVBJ4SoPeIAL"
      }
    },
    {
      "cell_type": "markdown",
      "source": [
        "Our implementation of the Miller-Robin algorithm is, unfortunetely, defective.\n",
        "\n",
        "Let's see the example $n = 2312311$, which we know is a prime.\n",
        "\n",
        "Let's compare the runtime of `miller_rabin_v0(2312311)` and `is_prime(2312311)`."
      ],
      "metadata": {
        "id": "R4BIftYIeVvl"
      }
    },
    {
      "cell_type": "code",
      "source": [
        "start = time.time()\n",
        "miller_rabin_v0(2312311, 1)\n",
        "end = time.time()\n",
        "print(\"MRv0 runtime: \", end-start, \" seconds\")\n",
        "start = time.time()\n",
        "is_prime(2312311)\n",
        "end = time.time()\n",
        "print(\"Brute-force runtime: \", end-start, \" seconds\")"
      ],
      "metadata": {
        "id": "_hxxTxN7ezO7"
      },
      "execution_count": null,
      "outputs": []
    },
    {
      "cell_type": "markdown",
      "source": [
        "Suprisingly, our Miller-Robin algorithm is even slowlier than brute-force for this not-so-large prime number, even if we only run one test ($k=1$).\n",
        "\n",
        "This is bad because it intimates that it may take even longer to run `miller_robin_v0(10**17-3)`."
      ],
      "metadata": {
        "id": "dY-HuuUb1KGi"
      }
    },
    {
      "cell_type": "markdown",
      "source": [
        "### Troubleshooting"
      ],
      "metadata": {
        "id": "OSDPeGKb5DYq"
      }
    },
    {
      "cell_type": "markdown",
      "source": [
        "In the Miller-Robin algorithm, essentially we did three things:\n",
        "\n",
        "* Find $s$ and $m$.\n",
        "* Compute $a^m$ mod $n$.\n",
        "* Compute $a^{2^rm}$ mod $n$, for $r=0, 1, \\ldots, n-1$.\n",
        "\n",
        "The first task is easy for the machine: the worst time complexity is $O(\\log_2 n)$. So the real problem is how we compute the powers."
      ],
      "metadata": {
        "id": "wrdAJi377HID"
      }
    },
    {
      "cell_type": "markdown",
      "source": [
        "Recall that for fixed $a$ and $m$, we can do $a^{2^rm} = (a^{2^{r-1}m})^2$. So, if we know $a^m$ mod $n$, we can inductively get $a^{2^rm}$ for all $r$.\n",
        "\n",
        "That is, instead of computing $a^{2^rm}$ for each $r$ separately, we can make use of $a^{2^{r-1}m}$ to reduce the computational cost. This idea is known as *dynamic programming*.\n"
      ],
      "metadata": {
        "id": "RHAUPRyR8fpO"
      }
    },
    {
      "cell_type": "markdown",
      "source": [
        "In fact, we have already used this idea in our homework.\n",
        "\n",
        "> How to compute $5^{93}$ mod $101$ without doing too much computation?\n",
        "\n",
        "We wrote $93$ as a sum of powers of $2$ and we computed $5^{2^r}$ by taking squares and modulo the squares by $101$.\n",
        "\n"
      ],
      "metadata": {
        "id": "iLJ4V_e2-OkB"
      }
    },
    {
      "cell_type": "markdown",
      "source": [
        "The following function `modular_power` is an implementation using this idea."
      ],
      "metadata": {
        "id": "wyPLVmxCADe8"
      }
    },
    {
      "cell_type": "code",
      "source": [
        "def modular_power(base, power, modular):\n",
        "  assert power >= 0, \"Power must be non-negative.\"\n",
        "\n",
        "  if power == 0:\n",
        "    return 1\n",
        "\n",
        "  # transfer the power into binary\n",
        "  power_binary = [int(i) for i in list('{0:0b}'.format(power))]\n",
        "\n",
        "  # find the highest power of 2 that we need to compute\n",
        "  highest = len(power_binary) - 1\n",
        "\n",
        "  # inductively calculate the powers\n",
        "  power_lst = [base % modular]\n",
        "  for _ in range(highest):\n",
        "    power_lst.insert(0, power_lst[0] * power_lst[0] % modular)\n",
        "\n",
        "  # combine the powers\n",
        "  ans = 1\n",
        "  for i in range(highest+1):\n",
        "    if power_binary[i]:\n",
        "      ans = ans * power_lst[i] % modular\n",
        "\n",
        "  return ans"
      ],
      "metadata": {
        "id": "6YMFnDb6ARqu"
      },
      "execution_count": null,
      "outputs": []
    },
    {
      "cell_type": "markdown",
      "source": [
        "Another advantage of this implementation is that it avoids `int` type overflow when doing exponentials. This shouldn't be an issue in Python3, but we do want to avoid it as much as we can since dynamically enlarging the upperbounds of the data is also time-consuming. Another reason is that Numpy does not automatically enlarge the upperbounds and we will use Numpy."
      ],
      "metadata": {
        "id": "p36dcfMZBCQK"
      }
    },
    {
      "cell_type": "markdown",
      "source": [
        "### Improved Miller-Rabin"
      ],
      "metadata": {
        "id": "7JAzVl-OCjSP"
      }
    },
    {
      "cell_type": "markdown",
      "source": [
        "With `modular_power` in hand, we can modify our function."
      ],
      "metadata": {
        "id": "Q9VthNRkCyHy"
      }
    },
    {
      "cell_type": "code",
      "source": [
        "def miller_rabin_v1(n, k):\n",
        "  # same as MRv0\n",
        "  if n == 1:\n",
        "    return False\n",
        "  if n == 2:\n",
        "    return True\n",
        "\n",
        "  # same as MRv0\n",
        "  s = 0\n",
        "  m = n - 1\n",
        "  while m % 2 == 0:\n",
        "    m //= 2\n",
        "    s += 1\n",
        "\n",
        "  like_prime = True\n",
        "  for _ in range(k):\n",
        "    a = randint(2, n-1)\n",
        "\n",
        "    # invoke modular_power()\n",
        "    b = modular_power(a, m, n)\n",
        "\n",
        "    if b != 1:\n",
        "      like_prime = False\n",
        "\n",
        "      # since we already know b, we just need to do\n",
        "      # b**(2**r) inductively.\n",
        "      for _ in range(s):\n",
        "        if b == n - 1:\n",
        "          like_prime = True\n",
        "          break\n",
        "        else:\n",
        "          b = b * b % n\n",
        "\n",
        "      # same as MRv0\n",
        "      if not like_prime:\n",
        "        break\n",
        "\n",
        "  # if none of these randomly chosen a's witness n, then the\n",
        "  # likelyhood of n being non-prime is less than 4^{-k}.\n",
        "  return like_prime"
      ],
      "metadata": {
        "id": "S5sOdT6QDEPG"
      },
      "execution_count": null,
      "outputs": []
    },
    {
      "cell_type": "markdown",
      "source": [
        "Now let's see its performance for the input $n = 2312311$."
      ],
      "metadata": {
        "id": "_uc-Sf0jERdx"
      }
    },
    {
      "cell_type": "code",
      "source": [
        "start = time.time()\n",
        "ans = miller_rabin_v1(2312311, 1)\n",
        "end = time.time()\n",
        "print(\"MRv1 runtime: \", end - start)"
      ],
      "metadata": {
        "id": "9IrwdXVGEbbR"
      },
      "execution_count": null,
      "outputs": []
    },
    {
      "cell_type": "markdown",
      "source": [
        "Incredible improvement, isn't it!\n",
        "------------------------------------"
      ],
      "metadata": {
        "id": "NEpuxQdDE2j5"
      }
    },
    {
      "cell_type": "markdown",
      "source": [
        "## Determinist Miller-Rabin Test"
      ],
      "metadata": {
        "id": "FGJbILiEFE1Z"
      }
    },
    {
      "cell_type": "markdown",
      "source": [
        "Recall that there is a Determinist Miller-Rabin Test:\n",
        "> Assuming *General Riemann Hypothesis*(GRH), if $n$ is an odd composite, then there is a witness $a$ for $n$ such that $$a \\leq \\lfloor2(\\ln(n))^2\\rfloor.$$"
      ],
      "metadata": {
        "id": "pvi5tvf9G_0w"
      }
    },
    {
      "cell_type": "markdown",
      "source": [
        "For simplicity, we implement the function `miller_rabin()` by combining the Determinist Miller-Rabin Test into the ordinary Miller-Rabin Test.\n",
        "\n",
        "`miller_rabin(n, k=-1)` has two parameters:\n",
        "\n",
        "* `n` is the positive integer we want to check primality of.\n",
        "* `k` is the number of tests to run if it is not $-1$. If $k=1$, it calls the Determinist Miller-Robin. `k` has a default value $1$."
      ],
      "metadata": {
        "id": "vWrL_48fIMVP"
      }
    },
    {
      "cell_type": "code",
      "source": [
        "def miller_rabin(n, k=-1):\n",
        "  assert k >= -1, \"Invalid k.\"\n",
        "  if n == 1:\n",
        "    return False\n",
        "  if n == 2:\n",
        "    return True\n",
        "  if n % 2 == 0:\n",
        "    return False\n",
        "  s = 0\n",
        "  m = n - 1\n",
        "  while m % 2 == 0:\n",
        "    m //= 2\n",
        "    s += 1\n",
        "  like_prime = True\n",
        "  if k != -1:\n",
        "    for _ in range(k):\n",
        "      like_prime = True\n",
        "      a = randint(2, n-1)\n",
        "      b = modular_power(a, m, n)\n",
        "      if b != 1:\n",
        "        like_prime = False\n",
        "        for _ in range(s):\n",
        "          if b == n - 1:\n",
        "            like_prime = True\n",
        "            break\n",
        "          else:\n",
        "            b = b * b % n\n",
        "        if not like_prime:\n",
        "          return False\n",
        "  else:\n",
        "    for a in range(2, min(int(2*log(n)*log(n))+1, n-1)):\n",
        "      like_prime = True\n",
        "      b = modular_power(a, m, n)\n",
        "      if b != 1:\n",
        "        like_prime = False\n",
        "        for _ in range(s):\n",
        "          if b == n - 1:\n",
        "            like_prime = True\n",
        "            break\n",
        "          else:\n",
        "            b = b * b % n\n",
        "        if not like_prime:\n",
        "          return False\n",
        "  return like_prime\n",
        "\n",
        "vmiller_rabin = np.vectorize(miller_rabin)"
      ],
      "metadata": {
        "id": "-dbReMMkkDE6"
      },
      "execution_count": null,
      "outputs": []
    },
    {
      "cell_type": "markdown",
      "source": [
        "We can do some trivial tests."
      ],
      "metadata": {
        "id": "nychJiD2KZYl"
      }
    },
    {
      "cell_type": "code",
      "source": [
        "print(miller_rabin(11))\n",
        "print(miller_rabin(15, 1))\n",
        "print(miller_rabin(10**17+5))\n",
        "print(miller_rabin(29, 3))"
      ],
      "metadata": {
        "id": "VbaBeRHuxuTF"
      },
      "execution_count": null,
      "outputs": []
    },
    {
      "cell_type": "markdown",
      "source": [
        "So this is actually a feasible implementation of Miller-Rabin!"
      ],
      "metadata": {
        "id": "ax90XSHXgiNg"
      }
    },
    {
      "cell_type": "markdown",
      "source": [
        "## Algorithm Analysis"
      ],
      "metadata": {
        "id": "nmplsviBgviM"
      }
    },
    {
      "cell_type": "markdown",
      "source": [
        "### Complexity of finding $s$ and $m$:\n",
        "\n",
        "We quotient $n$ down by $2$ each time and repeat at most $\\log_2n$ times. So the time complexity is $O(\\log n)$. We only created two variables $s$ and $m$, so the space complexity is constant.\n",
        "\n",
        "\n",
        "\n"
      ],
      "metadata": {
        "id": "RdaGN4e-gyaj"
      }
    },
    {
      "cell_type": "markdown",
      "source": [
        "### Complexity of modular power $a^N$ (mod $b$):\n",
        "\n",
        "Recall that this depends on $n$, the number of digits in the binary expression of $N$. Approximately, we have $n ≈ \\log N$ and it is independent of $a$ or $b$. Also, we created an array to store the values of $a, a^2, a^4, \\ldots, a^{2^n}$.\n",
        "\n",
        "So the time complexity and space complexity are both $O(\\log N)$."
      ],
      "metadata": {
        "id": "1PH-BnHpigc0"
      }
    },
    {
      "cell_type": "markdown",
      "source": [
        "### Complexity of a single test:\n",
        "\n",
        "We randomly pick $a$ and run `modular_power(a, m, n)` once to compute $b = a^m$, which consumes $O(\\log m)$. Then we inductively compute $b^2, b^4, \\ldots, b^{2^{s}}$, which takes $s$ steps.\n",
        "\n",
        "So the time complexity of running `miller_rabin(n, 1)` is\n",
        "$$O(\\log n) + O(\\log m) + O(s).$$\n",
        "\n",
        "Note that we always have $s≈\\log n$. In worst cases, we have $m = (n-1)/2$, so $m≈n$. Therefore the time complexity is $O(\\log n)$.\n",
        "\n",
        "Extra memory is only required when running `modular_power(a, m, n)`. So the total space complexity is $O(\\log m)$. So in the worst cases, the space complexity is $O(\\log n)$."
      ],
      "metadata": {
        "id": "n4Hjg2XoifgU"
      }
    },
    {
      "cell_type": "markdown",
      "source": [
        "### Complexity of `miller_rabin(n, k)`:\n",
        "\n",
        "If we run $k$ tests, the only difference will be the last step, since we repeat the last step for $k$ times. So the time complexity is\n",
        "$$O(\\log n) + O(\\log m) + O(ks) = O(k\\log n).$$"
      ],
      "metadata": {
        "id": "I1GKIQ5IoGBO"
      }
    },
    {
      "cell_type": "markdown",
      "source": [
        "### Complexity of DMR (`miller_rabin(n)`):\n",
        "\n",
        "The DMR repeat the last step for at most $\\lfloor2\\cdot(\\log n)^2\\rfloor$ times. So it is similar to the case when $k = \\lfloor2\\cdot(\\log n)^2\\rfloor$. Therefore, the time complexity is $O(\\log^3 n)$.\n",
        "\n",
        "The space complexity is still $O(\\log n)$."
      ],
      "metadata": {
        "id": "OcBWGmXwo9CY"
      }
    },
    {
      "cell_type": "markdown",
      "source": [
        "## On the accuracy of (non-determinist) Miller-Rabin"
      ],
      "metadata": {
        "id": "PjhlxpaLjH94"
      }
    },
    {
      "cell_type": "markdown",
      "source": [
        "Recall that if `miller_rabin(n, k)` returns `True`, it means that $n$ is very likely a prime number, while the possibility that it is not prime is less than $4^{-k}$. We have seen before that when we set $k=1$, it could make mistakes. Here's another example."
      ],
      "metadata": {
        "id": "QEIm_Bc5x1-r"
      }
    },
    {
      "cell_type": "markdown",
      "source": [
        "### Example.\n",
        "\n",
        "Let $N=233333$. One can use either `is_prime(233333)` or `miller_rabin(233333)` to check that it is **not a prime number**. However, `miller_rabin(233333, 1)` may say it looks like a prime number."
      ],
      "metadata": {
        "id": "R0pjmw6TzN4a"
      }
    },
    {
      "cell_type": "code",
      "source": [
        "seed(574)\n",
        "miller_rabin(233333, 1)"
      ],
      "metadata": {
        "id": "bV1vOHLJyv32"
      },
      "execution_count": null,
      "outputs": []
    },
    {
      "cell_type": "markdown",
      "source": [
        "This is because the function will always pick $a = 81585$ (as we set the random seed) and this happens to be a Fermat Liar for $N = 233333$.\n",
        "\n",
        "Without setting a random seed, the result might be correct (maybe still wrong)."
      ],
      "metadata": {
        "id": "ebT7l3S60bUe"
      }
    },
    {
      "cell_type": "code",
      "source": [
        "miller_rabin(233333, 1)"
      ],
      "metadata": {
        "id": "D2ctN4Dx1LO7"
      },
      "execution_count": null,
      "outputs": []
    },
    {
      "cell_type": "markdown",
      "source": [
        "Let's run `miller_rabin(233333, 1)` for multiple times and see how many mistakes it will make.\n",
        "\n",
        "We take one million samples."
      ],
      "metadata": {
        "id": "PsiX1lCFEejA"
      }
    },
    {
      "cell_type": "code",
      "source": [
        "N = 233333\n",
        "samples = 1000000"
      ],
      "metadata": {
        "id": "qov1Vj3K1j65"
      },
      "execution_count": null,
      "outputs": []
    },
    {
      "cell_type": "code",
      "source": [
        "array_N = np.ones((1, samples), dtype=int) * N\n",
        "\n",
        "seed(10)\n",
        "print(f\"Sampling {samples} times, one test each time:\")\n",
        "print(\"Number of mistakes = \", np.sum(vmiller_rabin(array_N, 1).astype(int)))\n",
        "\n",
        "seed(10)\n",
        "print(f\"Sampling {samples} times, two tests each time:\")\n",
        "print(\"Number of mistakes = \", np.sum(vmiller_rabin(array_N, 2).astype(int)))\n",
        "\n",
        "seed(10)\n",
        "print(f\"Sampling {samples} times, three tests each time:\")\n",
        "print(\"Number of mistakes = \", np.sum(vmiller_rabin(array_N, 3).astype(int)))"
      ],
      "metadata": {
        "id": "sbnNfbQU1s_Z"
      },
      "execution_count": null,
      "outputs": []
    },
    {
      "cell_type": "markdown",
      "source": [
        "It means that for $n=233333$, the false positive rate of MR single-test is approximately $3046/1000000 = 0.346\\%$ and the false positive rate of MR two-test is approximately $7\\times10^{-6}$."
      ],
      "metadata": {
        "id": "x8NLXLFajBRi"
      }
    },
    {
      "cell_type": "markdown",
      "source": [
        "If you set `samples = 10000000` (ten million), it will take approximately seven minutes and give the following result:\n",
        "\n",
        "\n",
        "\n",
        "```\n",
        "Sampling 10000000 times, one test each time:\n",
        "Number of mistakes =  31009\n",
        "Sampling 10000000 times, two tests each time:\n",
        "Number of mistakes =  91\n",
        "Sampling 10000000 times, three tests each time:\n",
        "Number of mistakes =  1\n",
        "```\n",
        "\n"
      ],
      "metadata": {
        "id": "WJbTP-XS8kW8"
      }
    },
    {
      "cell_type": "markdown",
      "source": [
        "Loosely speaking, `miller_robin(233333, 3)` makes one mistake per ten million calls."
      ],
      "metadata": {
        "id": "4VB1VKkfkBO5"
      }
    },
    {
      "cell_type": "markdown",
      "source": [
        "### Example.\n",
        "\n",
        "For different $N$, the accuracy can be different."
      ],
      "metadata": {
        "id": "avltl5IS1Jsp"
      }
    },
    {
      "cell_type": "code",
      "source": [
        "N = 233133\n",
        "samples = 1000000"
      ],
      "metadata": {
        "id": "WAUGeCkzoeGG"
      },
      "execution_count": null,
      "outputs": []
    },
    {
      "cell_type": "code",
      "source": [
        "is_prime(N)"
      ],
      "metadata": {
        "id": "w-Z6YDwvytSv"
      },
      "execution_count": null,
      "outputs": []
    },
    {
      "cell_type": "code",
      "source": [
        "array_N = np.ones((1, samples), dtype=int) * N\n",
        "\n",
        "seed(10)\n",
        "print(f\"Sampling {samples} times, one test each time:\")\n",
        "print(\"Number of mistakes = \", np.sum(vmiller_rabin(array_N, 1).astype(int)))\n",
        "\n",
        "seed(10)\n",
        "print(f\"Sampling {samples} times, two tests each time:\")\n",
        "print(\"Number of mistakes = \", np.sum(vmiller_rabin(array_N, 2).astype(int)))"
      ],
      "metadata": {
        "id": "1yPKKdY9ohhY"
      },
      "execution_count": null,
      "outputs": []
    },
    {
      "cell_type": "markdown",
      "source": [
        "You can see that even the single-test MR yields a very low false positive rate."
      ],
      "metadata": {
        "id": "-TT0f3WpNN1I"
      }
    },
    {
      "cell_type": "markdown",
      "source": [
        "So the accuracy of Non-determinist MR `miller_rabin(n, k)` depends on both $n$ and $k$. Let's see the following example."
      ],
      "metadata": {
        "id": "ktU-9mulmTNc"
      }
    },
    {
      "cell_type": "markdown",
      "source": [
        "### Example.\n",
        "\n",
        "Let $N_1 = 32767 = 2^{15}-1$ and $N_2 = 32769 = 2^{15}+1$."
      ],
      "metadata": {
        "id": "bYmrlg9yOlgQ"
      }
    },
    {
      "cell_type": "code",
      "source": [
        "N1 = 32767\n",
        "N2 = 32769\n",
        "samples = 1000000"
      ],
      "metadata": {
        "id": "HAHPsP0FONcU"
      },
      "execution_count": null,
      "outputs": []
    },
    {
      "cell_type": "code",
      "source": [
        "print(is_prime(N1))\n",
        "print(is_prime(N2))"
      ],
      "metadata": {
        "id": "1JQbtPPfOSx4"
      },
      "execution_count": null,
      "outputs": []
    },
    {
      "cell_type": "markdown",
      "source": [
        "So neither of them are prime."
      ],
      "metadata": {
        "id": "9BBIi9wunfHl"
      }
    },
    {
      "cell_type": "code",
      "source": [
        "N = N1\n",
        "array_N = np.ones((1, samples), dtype=int) * N\n",
        "\n",
        "seed(10)\n",
        "print(f\"Sampling {samples} times, one test each time:\")\n",
        "print(\"Number of mistakes = \", np.sum(vmiller_rabin(array_N, 1).astype(int)))\n",
        "\n",
        "seed(10)\n",
        "print(f\"Sampling {samples} times, two tests each time:\")\n",
        "print(\"Number of mistakes = \", np.sum(vmiller_rabin(array_N, 2).astype(int)))\n",
        "\n",
        "seed(10)\n",
        "print(f\"Sampling {samples} times, three tests each time:\")\n",
        "print(\"Number of mistakes = \", np.sum(vmiller_rabin(array_N, 3).astype(int)))"
      ],
      "metadata": {
        "id": "nRfh20aEOPwG"
      },
      "execution_count": null,
      "outputs": []
    },
    {
      "cell_type": "code",
      "source": [
        "N = N2\n",
        "array_N = np.ones((1, samples), dtype=int) * N\n",
        "\n",
        "seed(10)\n",
        "print(f\"Sampling {samples} times, one test each time:\")\n",
        "print(\"Number of mistakes = \", np.sum(vmiller_rabin(array_N, 1).astype(int)))\n",
        "\n",
        "seed(10)\n",
        "print(f\"Sampling {samples} times, two tests each time:\")\n",
        "print(\"Number of mistakes = \", np.sum(vmiller_rabin(array_N, 2).astype(int)))\n",
        "\n",
        "seed(10)\n",
        "print(f\"Sampling {samples} times, three tests each time:\")\n",
        "print(\"Number of mistakes = \", np.sum(vmiller_rabin(array_N, 3).astype(int)))"
      ],
      "metadata": {
        "id": "C9LXTA_xQziJ"
      },
      "execution_count": null,
      "outputs": []
    },
    {
      "cell_type": "markdown",
      "source": [
        "Can you figure out why there is such a big difference?"
      ],
      "metadata": {
        "id": "mJ_C4UiHRE8x"
      }
    },
    {
      "cell_type": "markdown",
      "source": [
        "#### Hint:\n",
        "\n",
        "Consider the relation between $s$ and number of Fermat Liars."
      ],
      "metadata": {
        "id": "mFBCRSJPqpw2"
      }
    },
    {
      "cell_type": "markdown",
      "source": [
        "# Comparing the Runtimes"
      ],
      "metadata": {
        "id": "si4jQ6esqW57"
      }
    },
    {
      "cell_type": "markdown",
      "source": [
        "Let's compare the actual runtime of brute-force, Miller-Rabin with single test, and Determinist Miller-Rabin on a relatively large prime number."
      ],
      "metadata": {
        "id": "NU3_oWBpgGwy"
      }
    },
    {
      "cell_type": "markdown",
      "source": [
        "## Example.\n",
        "\n",
        "$N = 11111117$."
      ],
      "metadata": {
        "id": "r_69vMKwsQ3P"
      }
    },
    {
      "cell_type": "code",
      "source": [
        "N = 11111117\n",
        "\n",
        "start = time.time()\n",
        "ans = is_prime(N)\n",
        "end = time.time()\n",
        "print(\"Brute-force runtime: \", end-start)\n",
        "print(\"Brute-force result: \", ans)\n",
        "\n",
        "start = time.time()\n",
        "ans = miller_rabin(N, 1)\n",
        "end = time.time()\n",
        "print(\"MR single-test runtime: \", end-start)\n",
        "print(\"MR single-test result: \", ans)\n",
        "\n",
        "start = time.time()\n",
        "ans = miller_rabin(N)\n",
        "end = time.time()\n",
        "print(\"DMR runtime: \", end-start)\n",
        "print(\"DMR result: \", ans)\n"
      ],
      "metadata": {
        "id": "e9gDqPh43q0z"
      },
      "execution_count": null,
      "outputs": []
    },
    {
      "cell_type": "markdown",
      "source": [
        "In this example, we can see:\n",
        "$$\\text{Speed of DMR} < \\text{Speed of Brute-force} < \\text{Speed of MR Single-test}.$$"
      ],
      "metadata": {
        "id": "kwiaiUe_roV0"
      }
    },
    {
      "cell_type": "markdown",
      "source": [
        "## Example.\n",
        "\n",
        "$N = 10^{17}-3$. This is the large number on which we found `is_prime(N)` was not satisfactory.\n",
        "\n"
      ],
      "metadata": {
        "id": "iJbNOV-Yseou"
      }
    },
    {
      "cell_type": "code",
      "source": [
        "N = 10 ** 17 - 3\n",
        "\n",
        "start = time.time()\n",
        "ans = is_prime(N)\n",
        "end = time.time()\n",
        "print(\"Brute-force runtime: \", end-start)\n",
        "print(\"Brute-force result: \", ans)\n",
        "\n",
        "start = time.time()\n",
        "ans = miller_rabin(N, 1)\n",
        "end = time.time()\n",
        "print(\"MR single-test runtime: \", end-start)\n",
        "print(\"MR single-test result: \", ans)\n",
        "\n",
        "start = time.time()\n",
        "ans = miller_rabin(N)\n",
        "end = time.time()\n",
        "print(\"DMR runtime: \", end-start)\n",
        "print(\"DMR result: \", ans)"
      ],
      "metadata": {
        "id": "hBOCnUwMLgwa"
      },
      "execution_count": null,
      "outputs": []
    },
    {
      "cell_type": "markdown",
      "source": [
        "Now we have\n",
        "$$\\text{Speed of Brute-force} \\ll \\text{Speed of DMR} < \\text{Speed of MR Single-test}.$$"
      ],
      "metadata": {
        "id": "B1JvwbN0tcUw"
      }
    },
    {
      "cell_type": "markdown",
      "source": [
        "Additionally, as we have seen earlier, the MR Single-test is accurate enough in most cases. Now that MR Single-test can be $1000$ times faster than DMR and $200,000$ times faster than Brute-force for large numbers, it is actually a very good algorithm for the purpose of crypto."
      ],
      "metadata": {
        "id": "IVRmSPsVuqZk"
      }
    },
    {
      "cell_type": "markdown",
      "source": [
        "The following code block compares the performances for $n$ in different magnitude. We can see that DMR starts to come out on top of brute-force when $n ≈ 10^{10}$.\n",
        "\n",
        "*Typically, it takes about 80 seconds to run this block.*"
      ],
      "metadata": {
        "id": "BSoYj7iVelep"
      }
    },
    {
      "cell_type": "code",
      "source": [
        "disagree = 0\n",
        "K = 100\n",
        "seed(1)\n",
        "for i in range(5, 16):\n",
        "  print(f\"Running {K} samples around 10^{i}:\")\n",
        "  samples = []\n",
        "  for _ in range(K):\n",
        "    samples.append(randint(10**i // 2, 10**i * 5))\n",
        "  start = time.time()\n",
        "  for j in range(K):\n",
        "    is_prime(samples[j])\n",
        "  end = time.time()\n",
        "  print(f\"Brute-Force: {end - start} seconds\", end=\"; \")\n",
        "  start = time.time()\n",
        "  for j in range(K):\n",
        "    miller_rabin(samples[j], 1)\n",
        "  end = time.time()\n",
        "  print(f\"MR Single-test: {end - start} seconds\", end=\"; \")\n",
        "  start = time.time()\n",
        "  for j in range(K):\n",
        "    miller_rabin(samples[j])\n",
        "  end = time.time()\n",
        "  print(f\"DMR: {end - start} seconds\")"
      ],
      "metadata": {
        "id": "8pWfLKOIekZ9"
      },
      "execution_count": null,
      "outputs": []
    },
    {
      "cell_type": "markdown",
      "source": [
        "# The Agrawal-Kayal-Saxena Primality Test"
      ],
      "metadata": {
        "id": "uUVP_NWSir9n"
      }
    },
    {
      "cell_type": "markdown",
      "source": [
        "Here is an (toy) implementation of the *Agrawal-Kayal-Saxena(AKS) Algorithm*.\n",
        "\n",
        "From [this wikipedia page](https://en.wikipedia.org/wiki/AKS_primality_test) and AKS' original paper, the algorithm is as follow:\n",
        "\n",
        "\n",
        "\n",
        "\n",
        "\n",
        "\n",
        "> Input: integer n > 1.\n",
        "> 1. If ($n = ab$ for $a \\in N$ and $b > 1$), output COMPOSITE.\n",
        "> 2. Find the smallest $r$ such that the order of $r$ in $\\mathbb{Z}/n\\mathbb{Z}$ is greater than $\\ln^2n$. If $\\gcd(r,n) > 1$, output COMPOSITE.\n",
        "> 3. If $a$ divides $n$ for some $2 \\leq a \\leq \\min(r,n-1)$, output COMPOSITE.\n",
        "> 4. If $n \\leq r$, output PRIME.\n",
        "> 5. For $a = 1$ to $\\lfloor\\sqrt{\\phi(r)}\\ln n\\rfloor$ and for $c$ from $0$ to $r$, if $h_a(c)\\not\\equiv0$ (mod $n$), return COMPOSITE.\n",
        "> 6. Output PRIME.\n",
        "\n",
        "\n",
        "\n",
        "\n",
        "\n",
        "I will omit most of the details."
      ],
      "metadata": {
        "id": "7wElROGIodNc"
      }
    },
    {
      "cell_type": "code",
      "source": [
        "\n",
        "# It is a little bit tricky to determine whether n is a perfect power.\n",
        "def is_perfect_power(n):\n",
        "  digits = len(str(n))\n",
        "  getcontext().prec = 2 * digits\n",
        "  n = Decimal(n)\n",
        "  for k in range(2, int(n.ln()/Decimal(2).ln()) + 1):\n",
        "    a = n ** (Decimal(1.0) / Decimal(k))\n",
        "    if a.quantize(Decimal('1.'), rounding=ROUND_UP) - a < min(Decimal(1e-6), Decimal(1)/n) or\\\n",
        "      a - a.quantize(Decimal('1.'), rounding=ROUND_DOWN) < min(Decimal(1e-6), Decimal(1)/n):\n",
        "      return True\n",
        "  return False\n",
        "\n",
        "# We implement the Euler totient function by brute-force since it is only\n",
        "# applied to r, which is always small in AKS.\n",
        "def euler_totient(n):\n",
        "  ans = 0\n",
        "  for k in range(1, n+1):\n",
        "    if gcd(n, k) == 1:\n",
        "      ans += 1\n",
        "  return ans\n",
        "\n",
        "def aks(n):\n",
        "  if n == 1:\n",
        "    return False\n",
        "  if n == 2:\n",
        "    return True\n",
        "\n",
        "  # Step 1: if n is a perfect power, then it is composite.\n",
        "  if is_perfect_power(n):\n",
        "    return False\n",
        "\n",
        "  digits = len(str(n))\n",
        "  getcontext().prec = 2 * digits\n",
        "  n = Decimal(n)\n",
        "\n",
        "  # Step 2: find r\n",
        "  log_of_n = n.ln()\n",
        "  r = 2\n",
        "  while r < n:\n",
        "    r_power = Decimal(r)\n",
        "    order_is_large = True\n",
        "    for _ in range(2, int(log_of_n*log_of_n)+1):\n",
        "      r_power = r_power * Decimal(r) % n\n",
        "      if r_power == 1:\n",
        "        order_is_large = False\n",
        "        break\n",
        "    if order_is_large:\n",
        "      break\n",
        "    else:\n",
        "      r += 1\n",
        "\n",
        "  # Step 2: check if r and n are coprime\n",
        "  n = int(n)\n",
        "  if gcd(r, n) != 1:\n",
        "    return False\n",
        "\n",
        "  # Step 3: check condition\n",
        "  for i in range(2, min(r, n-1) + 1):\n",
        "    if n % i == 0:\n",
        "      return False\n",
        "\n",
        "  # Step 4: check condition\n",
        "  if r == n:\n",
        "    return True\n",
        "\n",
        "  # Step 5: compute and check h_a(c)\n",
        "  for a in range(1, int(Decimal(sqrt(euler_totient(r))) * log_of_n) + 1):\n",
        "    powers = [1]\n",
        "    for k in range(1, n):\n",
        "      powers.append(powers[-1] * a % n)\n",
        "    coeff = [(modular_power(a, n, n) - a) % n]\n",
        "    prev = 1\n",
        "    for k in range(1, n):\n",
        "      prev = prev * (n-k+1) // k\n",
        "      coeff.append(powers[k] * (prev % n) % n)\n",
        "    for c in range(r+1):\n",
        "      hac = 0\n",
        "      for k in range(n):\n",
        "        if k % r == c:\n",
        "          hac = (hac + coeff[k]) % n\n",
        "      if hac != 0:\n",
        "        return False\n",
        "\n",
        "  # Step 6: draw conclution\n",
        "  return True\n",
        "\n",
        "\n"
      ],
      "metadata": {
        "id": "FIVHISInDu3z"
      },
      "execution_count": null,
      "outputs": []
    },
    {
      "cell_type": "markdown",
      "source": [
        "Let's see how it works for $n$ from $1$ to $20$."
      ],
      "metadata": {
        "id": "Sai2EL4ruexa"
      }
    },
    {
      "cell_type": "code",
      "source": [
        "for i in range(1, 21):\n",
        "  print(f\"{i}:{aks(i)}\", end=\"; \")"
      ],
      "metadata": {
        "id": "8vDmIWhTwH9n"
      },
      "execution_count": null,
      "outputs": []
    },
    {
      "cell_type": "markdown",
      "source": [
        "If we are not confident enough with the implementation, we can run `is_prime(N)` and `aks(N)` for $N=1$ to $2000$ and see how many of the results disagree."
      ],
      "metadata": {
        "id": "bUbwdc6jvbCW"
      }
    },
    {
      "cell_type": "code",
      "source": [
        "disagree = 0\n",
        "for i in range(1, 2001):\n",
        "  if is_prime(i) != aks(i):\n",
        "    disagree += 1\n",
        "print(disagree, \" mistakes out of \", 2000, \" tests.\")"
      ],
      "metadata": {
        "id": "sXDwCM6PIBa7"
      },
      "execution_count": null,
      "outputs": []
    },
    {
      "cell_type": "markdown",
      "source": [
        "So we are good.\n",
        "\n",
        "However, you may have noticed that it is surprisingly slow. Let's try a larger number and compare how different algorithm runs on it."
      ],
      "metadata": {
        "id": "ItW8-VzEutPm"
      }
    },
    {
      "cell_type": "code",
      "source": [
        "N = 9997\n",
        "\n",
        "start = time.time()\n",
        "ans = is_prime(N)\n",
        "end = time.time()\n",
        "print(\"Brute-force runtime: \", end-start)\n",
        "print(\"Brute-force result: \", ans)\n",
        "\n",
        "start = time.time()\n",
        "ans = miller_rabin(N, 1)\n",
        "end = time.time()\n",
        "print(\"MR single test runtime: \", end-start)\n",
        "print(\"MR single test result: \", ans)\n",
        "\n",
        "start = time.time()\n",
        "ans = miller_rabin(N)\n",
        "end = time.time()\n",
        "print(\"DMR runtime: \", end-start)\n",
        "print(\"DMR result: \", ans)\n",
        "\n",
        "start = time.time()\n",
        "ans = aks(N)\n",
        "end = time.time()\n",
        "print(\"AKS runtime: \", end-start)\n",
        "print(\"AKS result: \", ans)\n"
      ],
      "metadata": {
        "id": "HP7EPWc-G9vQ"
      },
      "execution_count": null,
      "outputs": []
    },
    {
      "cell_type": "markdown",
      "source": [
        "It seems our implementation of AKS is the slowest one comparing to MR, DMR and even the brute-force!\n",
        "\n",
        "In fact, if we run `aks(N)` for $N≈10^6$, it will take approximately ten seconds.\n",
        "\n",
        "If we run `aks(N)` for $N≈10^7$, it will take more than twenty minutes."
      ],
      "metadata": {
        "id": "1wZQle9Jw59y"
      }
    },
    {
      "cell_type": "markdown",
      "source": [
        "## A Drawback of the Implementation\n",
        "\n",
        "Theoretically, the time complexity of AKS is a polynomial of the number of digits of the input integer, namely $O(\\log^k n)$ for some natural number $k$.\n",
        "\n",
        "If this is the case, it should at least defeat the brute-force, since $\\log^kn = O(n^{1/2})$ but $n^{1/2}\\neq O(\\log^k n)$ for all $k > 0$."
      ],
      "metadata": {
        "id": "b3ODxHTw0Xqm"
      }
    },
    {
      "cell_type": "markdown",
      "source": [
        "Here is the problem: when $n$ is large, it is extremely hard to find the coefficients of\n",
        "$$(x+a)^n-(x^n+a)$$\n",
        "as a polynomial in $\\mathbb{Z}/n\\mathbb{Z}$.\n",
        "\n"
      ],
      "metadata": {
        "id": "c-kcFPh12JY2"
      }
    },
    {
      "cell_type": "markdown",
      "source": [
        "For example, let $n=10000$. Then the coefficient of the degree-$5000$ term will be\n",
        "$$C_{10000}^{5000} \\cdot a^{5000} \\;\\mathrm{mod}\\; 10000,$$\n",
        "where $C_n^k$ is the combinatorial number\n",
        "$$\\cfrac{n!}{(n-k)!k!}.$$\n",
        "\n",
        "However, the combinatorial number $C_{10000}^{5000}$ has $3009$ digits. So it is super hard to compute $C_{10000}^{5000}$ mod $10000$.\n"
      ],
      "metadata": {
        "id": "hjBxKwWb5wEc"
      }
    },
    {
      "cell_type": "markdown",
      "source": [
        "**The bottleneck is:** how to compute $C_n^k$ mod $n$, suppose we already know $C_n^{k-1}$ mod $n$?\n",
        "\n",
        "It seems $C_n^k$ mod $n$ does not quite depend on the previous term, e.g.\n",
        "$$C_8^1\\equiv0,\\; C_8^2\\equiv4,\\; C_8^3\\equiv0,\\; C_8^4\\equiv6,\\; C_8^5\\equiv0,\\; C_8^6\\equiv4,\\; C_8^7\\equiv0.$$\n",
        "\n",
        "So we cannot use inductions or dynamic programming to simplify it."
      ],
      "metadata": {
        "id": "bWBDmnBc6zMh"
      }
    },
    {
      "cell_type": "markdown",
      "source": [
        "Comparing to the Miller-Rabin or Determinist Miller-Rabin, an advantage of the AKS algorithm is that **it is more reliable**, in the sense that it does not depend on any unproven hypothesis and is hundred percent correct if implemented correctly.\n",
        "-----------\n",
        "\n",
        "However, our implementation is too slow to overtake the most reliable one -- the brute-force. That is why I say it is just a toy implementation.\n",
        "-----------\n",
        "\n",
        "Personally, I recommend `miller_rabin(n)` if you just want to grab one to use as a calculator.\n",
        "-----------"
      ],
      "metadata": {
        "id": "dvmgSuRM-RzP"
      }
    },
    {
      "cell_type": "markdown",
      "source": [
        "Anyway, if you know a better way to calculate the coefficients or you find a better implementation of the AKS algorithm, please let me know.\n",
        "-----------------------"
      ],
      "metadata": {
        "id": "yvBACGAA81SZ"
      }
    },
    {
      "cell_type": "markdown",
      "source": [
        "Thanks for reading this notebook! Feel free to change the parameters and explore by yourself!\n",
        "============="
      ],
      "metadata": {
        "id": "xXQTNHlD9tvp"
      }
    },
    {
      "cell_type": "code",
      "source": [],
      "metadata": {
        "id": "SAB_Jhv-UM4U"
      },
      "execution_count": null,
      "outputs": []
    }
  ]
}